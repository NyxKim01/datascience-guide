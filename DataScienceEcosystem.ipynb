{
  "nbformat": 4,
  "nbformat_minor": 0,
  "metadata": {
    "colab": {
      "provenance": []
    },
    "kernelspec": {
      "name": "python3",
      "display_name": "Python 3"
    },
    "language_info": {
      "name": "python"
    }
  },
  "cells": [
    {
      "cell_type": "markdown",
      "source": [
        "# Data Science Tools and Ecosystem"
      ],
      "metadata": {
        "id": "uGdA3mfYIc_5"
      }
    },
    {
      "cell_type": "markdown",
      "source": [
        "In this notebook, Data Science Tools and Ecosystem are summarized."
      ],
      "metadata": {
        "id": "W120uykBI3NP"
      }
    },
    {
      "cell_type": "markdown",
      "source": [
        "**Objectives:**\n",
        "*   List popular languages and libraries for Data Science;\n",
        "*   Show popular development environment open source tools for Data Science;\n",
        "*   Basic math expressions using Python.\n",
        "\n"
      ],
      "metadata": {
        "id": "DN2bTvQeMuQn"
      }
    },
    {
      "cell_type": "markdown",
      "source": [
        "Some of the popular languages that Data Scientists use are:\n",
        "1.   Python\n",
        "2.   R\n",
        "3.   SQL\n",
        "4.   Julia\n",
        "\n"
      ],
      "metadata": {
        "id": "iXEsNzYiJJBG"
      }
    },
    {
      "cell_type": "markdown",
      "source": [
        "Some of the commonly used libraries used by Data Scientists include:\n",
        "1.   Pandas\n",
        "2.   Seaborn\n",
        "3.   Matplotlib\n",
        "\n"
      ],
      "metadata": {
        "id": "QdMAaiONJvg3"
      }
    },
    {
      "cell_type": "markdown",
      "source": [
        "| Data Science Tools |\n",
        "|-|\n",
        "| Jupyter Notebook |\n",
        "| RStudio |\n",
        "| Visual Studio Code |\n"
      ],
      "metadata": {
        "id": "25X1-GEUK7Br"
      }
    },
    {
      "cell_type": "markdown",
      "source": [
        "### Below are a few examples of evaluating arithmetic expressions in Python"
      ],
      "metadata": {
        "id": "rNqI_u49LfKS"
      }
    },
    {
      "cell_type": "code",
      "source": [
        "# This a simple arithmetic expression to mutiply then add integers\n",
        "(3*4)+5"
      ],
      "metadata": {
        "colab": {
          "base_uri": "https://localhost:8080/"
        },
        "id": "EiI-VULRLu6x",
        "outputId": "2aa6952b-bbb1-46b2-c8bb-0061693ae070"
      },
      "execution_count": 1,
      "outputs": [
        {
          "output_type": "execute_result",
          "data": {
            "text/plain": [
              "17"
            ]
          },
          "metadata": {},
          "execution_count": 1
        }
      ]
    },
    {
      "cell_type": "code",
      "source": [
        "# This will convert 200 minutes to hours by diving by 60\n",
        "200/60"
      ],
      "metadata": {
        "colab": {
          "base_uri": "https://localhost:8080/"
        },
        "id": "TQqz-dzpMBnq",
        "outputId": "856d00f3-7f65-4841-9200-874dd97e4466"
      },
      "execution_count": 2,
      "outputs": [
        {
          "output_type": "execute_result",
          "data": {
            "text/plain": [
              "3.3333333333333335"
            ]
          },
          "metadata": {},
          "execution_count": 2
        }
      ]
    },
    {
      "cell_type": "markdown",
      "source": [
        "## Author\n",
        "Nicholas Kim"
      ],
      "metadata": {
        "id": "MxjawIjbOBGs"
      }
    }
  ]
}